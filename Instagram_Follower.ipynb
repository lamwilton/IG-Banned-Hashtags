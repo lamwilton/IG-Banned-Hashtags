{
  "nbformat": 4,
  "nbformat_minor": 0,
  "metadata": {
    "colab": {
      "name": "Instagram_Follower.ipynb",
      "provenance": [],
      "collapsed_sections": [],
      "authorship_tag": "ABX9TyMqqi4S9I+EK2Uq1jfa2Z3A",
      "include_colab_link": true
    },
    "kernelspec": {
      "name": "python3",
      "display_name": "Python 3"
    }
  },
  "cells": [
    {
      "cell_type": "markdown",
      "metadata": {
        "id": "view-in-github",
        "colab_type": "text"
      },
      "source": [
        "<a href=\"https://colab.research.google.com/github/lamwilton/IG-Banned-Hashtags/blob/master/Instagram_Follower.ipynb\" target=\"_parent\"><img src=\"https://colab.research.google.com/assets/colab-badge.svg\" alt=\"Open In Colab\"/></a>"
      ]
    },
    {
      "cell_type": "code",
      "metadata": {
        "id": "q3bG-DWUW8H0",
        "outputId": "94ae92e9-6357-429e-a307-625a3006ecbd",
        "colab": {
          "base_uri": "https://localhost:8080/",
          "height": 170
        }
      },
      "source": [
        "!pip install InstagramAPI"
      ],
      "execution_count": null,
      "outputs": [
        {
          "output_type": "stream",
          "text": [
            "Requirement already satisfied: InstagramAPI in /usr/local/lib/python3.6/dist-packages (1.0.2)\n",
            "Requirement already satisfied: requests-toolbelt==0.7.0 in /usr/local/lib/python3.6/dist-packages (from InstagramAPI) (0.7.0)\n",
            "Requirement already satisfied: requests==2.11.1 in /usr/local/lib/python3.6/dist-packages (from InstagramAPI) (2.11.1)\n",
            "Requirement already satisfied: moviepy==0.2.3.2 in /usr/local/lib/python3.6/dist-packages (from InstagramAPI) (0.2.3.2)\n",
            "Requirement already satisfied: tqdm==4.11.2 in /usr/local/lib/python3.6/dist-packages (from moviepy==0.2.3.2->InstagramAPI) (4.11.2)\n",
            "Requirement already satisfied: numpy in /usr/local/lib/python3.6/dist-packages (from moviepy==0.2.3.2->InstagramAPI) (1.18.3)\n",
            "Requirement already satisfied: imageio==2.1.2 in /usr/local/lib/python3.6/dist-packages (from moviepy==0.2.3.2->InstagramAPI) (2.1.2)\n",
            "Requirement already satisfied: decorator==4.0.11 in /usr/local/lib/python3.6/dist-packages (from moviepy==0.2.3.2->InstagramAPI) (4.0.11)\n",
            "Requirement already satisfied: pillow in /usr/local/lib/python3.6/dist-packages (from imageio==2.1.2->moviepy==0.2.3.2->InstagramAPI) (7.0.0)\n"
          ],
          "name": "stdout"
        }
      ]
    },
    {
      "cell_type": "code",
      "metadata": {
        "id": "4WfHQGcXW-r5"
      },
      "source": [
        "from InstagramAPI import InstagramAPI, os\n",
        "import json\n",
        "\n",
        "\n",
        "class FollowerReader:\n",
        "    \"\"\"\n",
        "    Class for reading followers/following\n",
        "    \"\"\"\n",
        "    def __init__(self):\n",
        "        self.followers = []\n",
        "        self.followings = []\n",
        "\n",
        "    def readFollowers(self):\n",
        "        \"\"\"\n",
        "        Reads followers and save list to self.followers\n",
        "        :return:\n",
        "        \"\"\"\n",
        "        next_max_id = True\n",
        "        while next_max_id:\n",
        "            if next_max_id is True:\n",
        "                next_max_id = ''\n",
        "            _ = api.getUserFollowers(usernameId=userId, maxid=next_max_id)\n",
        "            entries = api.LastJson.get('users')\n",
        "            for entry in entries:\n",
        "                self.followers.append(entry['username'])\n",
        "            next_max_id = api.LastJson.get('next_max_id', '')\n",
        "\n",
        "    def readFollowings(self):\n",
        "        \"\"\"\n",
        "        Reads followings and save list to self.followings\n",
        "        :return:\n",
        "        \"\"\"\n",
        "        next_max_id = True\n",
        "        while next_max_id:\n",
        "            if next_max_id is True:\n",
        "                next_max_id = ''\n",
        "            _ = api.getUserFollowings(usernameId=userId, maxid=next_max_id)\n",
        "            entries = api.LastJson.get('users')\n",
        "            for entry in entries:\n",
        "                self.followings.append(entry['username'])\n",
        "            next_max_id = api.LastJson.get('next_max_id', '')\n",
        "\n",
        "\n",
        "def readFollow():\n",
        "    \"\"\"\n",
        "    Read followers/followings\n",
        "    :return: List of followers/followings\n",
        "    \"\"\"\n",
        "    freader = FollowerReader()\n",
        "    freader.readFollowers()\n",
        "    freader.readFollowings()\n",
        "    '''\n",
        "    with open('followers.json', 'r') as infile:\n",
        "        prevFollowers = json.load(infile)\n",
        "    with open('followers.json', 'w') as outfile:\n",
        "        json.dump(freader.followers, outfile)\n",
        "    '''\n",
        "    return freader.followers, freader.followings\n",
        "\n",
        "\n",
        "def findNonFollowers(followers, followings):\n",
        "    \"\"\"\n",
        "    Find non followers by set difference\n",
        "    :param followers: List of followers\n",
        "    :param followings: List of followings\n",
        "    :return: Set of non followers\n",
        "    \"\"\"\n",
        "    followerset = set(followers)\n",
        "    followingset = set(followings)\n",
        "    return followingset.difference(followerset)\n",
        "\n",
        "\n",
        "def findUnfollowed(followers, prevFollowers):\n",
        "    \"\"\"\n",
        "    Find who unfollowed you since last check, as well as new followers\n",
        "    :param followers:\n",
        "    :param prevFollowers:\n",
        "    :return: Set of un-followers, then new followers\n",
        "    \"\"\"\n",
        "    followerset = set(followers)\n",
        "    prevFollowerset = set(prevFollowers)\n",
        "    return prevFollowerset.difference(followerset), followerset.difference(prevFollowerset)"
      ],
      "execution_count": null,
      "outputs": []
    },
    {
      "cell_type": "code",
      "metadata": {
        "id": "OxCRd6NHXFmd",
        "outputId": "731f8f16-4e15-449f-c6da-34eb77139119",
        "colab": {
          "base_uri": "https://localhost:8080/",
          "height": 309
        }
      },
      "source": [
        "if __name__ == \"__main__\":\n",
        "    # Login with test account\n",
        "    api = InstagramAPI(\"garysills12\", \"Qwer1010\", False)\n",
        "    api.login()\n",
        "\n",
        "    # Input username and searches for user ID\n",
        "    valid = False\n",
        "    while not valid:\n",
        "        userName = input(\"Enter Instagram username: \")\n",
        "        api.searchUsername(userName)\n",
        "        try:\n",
        "            userId = api.LastJson.get('user')['pk']\n",
        "            valid = True\n",
        "        except TypeError:\n",
        "            print('User not Found')\n",
        "\n",
        "    # Main functions\n",
        "    followers, followings = readFollow()\n",
        "    nonfollowers = findNonFollowers(followers, followings)\n",
        "    print(\"Number of followers: \" + str(len(followers)))\n",
        "    print(\"Number of followings: \" + str(len(followings)))\n",
        "    print(\"Number of non-followers (People who are not following back): \" + str(len(nonfollowers)))\n",
        "    print(nonfollowers)"
      ],
      "execution_count": null,
      "outputs": [
        {
          "output_type": "stream",
          "text": [
            "Request return 429 error!\n",
            "{'message': 'Please wait a few minutes before you try again.', 'status': 'fail'}\n",
            "Request return 405 error!\n",
            "{'message': '', 'status': 'fail'}\n",
            "Request return 404 error!\n",
            "Login success!\n",
            "\n",
            "Enter Instagram username: micoron_\n",
            "Request return 404 error!\n",
            "{'message': 'User not found', 'status': 'fail'}\n",
            "User not Found\n",
            "Enter Instagram username: giruyong\n",
            "Number of followers: 290\n",
            "Number of followings: 260\n",
            "Number of non-followers (People who are not following back): 112\n",
            "{'cylverxz', 'crush9244', 'handicosplay', 'alexanderwangny', 'princessmei', 'cartermoonxx', 'ari.the.cosplayer', 'givenchyofficial', 'roaringwild', 'kennywaitforit', 'lalalalisa_m', 'dande.lion.st', 'bleueuwu', 'evanghang', 'highsnobietystyle', 'dennisthetall', 'synthisia', 'xbrinni', 'kelseydangerous', 'hyunah_aa', 'rebecca.crossing', 'chiyikuri', '0073.uv', 'sakuraprincefigure', 'alexdrastal', 'yumecos', 'lilibikii', 'yukin0n_', 'smilingbubble', 'penguinfire', '__hikarin', 'reika_japan_', 'adorableri', 'hypebae', 'tsun_takeru', 'peanut.the.idol', 'krisssstyp', '1emon_vii', 'nikelsky', 'poetbastard', 'deantrbl', 'harumishiri', 'tauxyc', 'iampoetrydave', 'vivienne.mok', 'armiehammer', 'jaiinkang', 'mieparfait', 'h_h_m0519', 'henryl89', 'maisonvalentino', 'webcomic_name', 'kitsurie', 'jessicah_o', 'n0cturnalprince', 'clarentbloodarthurs', 'lilmarvel0', 'realmithrajin', 'v_yeon_', 'alive_alf', 'off____white', 'hypebeast', 'korpia', 'kaye_chou', 'photogarata', 'hyukoh2000', 'lack_illustrator', 'blobyblo', 'highsnobiety', 'jenkumagai', 'itsmaidenchina', 'kelogsloops', 'sadbutnotaloneofficial', 'kat.sumii', 'yashafluff', '_grey.cos', 'byakuya_a', '13434o____', 'hakukaze', 'zeal_xv', 'bluesssatan', 'lostdumplings', 'balenciaga', 'adidasoriginals', 'vans', 'hyukohofficial', 'superherosofa', 'vikko.ms', 'satgotloco', 'xxtuki', 'miiso_hungry', 'earldenvoi', 'shinyahiroki24', 'scarlettcat_', 'cinnamon.palz', 'cymbalkiddo', 'miwafwakes', 'ashiyaart', 'jennny_us', 'apostemate', 'rodelwort', 'cookat_korea', 'greyaconite', 'sichenmakeupholic', 'hypebeaststyle', 'charleslanphotography', 'callmegray', 'cookat__', 'knitecoser', '_seph_k', 'skoochig', 'himnesia'}\n"
          ],
          "name": "stdout"
        }
      ]
    }
  ]
}